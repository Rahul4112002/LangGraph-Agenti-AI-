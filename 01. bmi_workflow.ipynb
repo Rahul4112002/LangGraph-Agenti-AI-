{
 "cells": [
  {
   "cell_type": "code",
   "execution_count": 37,
   "id": "d587511c",
   "metadata": {},
   "outputs": [],
   "source": [
    "from typing import TypedDict\n",
    "from langgraph.graph import StateGraph\n"
   ]
  },
  {
   "cell_type": "code",
   "execution_count": 38,
   "id": "1f23d315",
   "metadata": {},
   "outputs": [],
   "source": [
    "# State definition\n",
    "class BMIState(TypedDict):\n",
    "    weight_kg: float\n",
    "    height_m: float\n",
    "    bmi: float\n",
    "    category: str"
   ]
  },
  {
   "cell_type": "code",
   "execution_count": 39,
   "id": "a43bf692",
   "metadata": {},
   "outputs": [],
   "source": [
    "# Node function\n",
    "def calculate_bmi(state: BMIState) -> BMIState:\n",
    "    weight = state['weight_kg']\n",
    "    height = state['height_m']\n",
    "    bmi = weight / height**2\n",
    "    state[\"bmi\"] = round(bmi, 2)\n",
    "    return state\n",
    "\n",
    "def label_bmi(state: BMIState) -> BMIState:\n",
    "    bmi = state[\"bmi\"]\n",
    "    if bmi < 18.5:\n",
    "        state[\"category\"] = \"Underweight\"\n",
    "    elif 18.5 <= bmi < 24.9:\n",
    "        state[\"category\"] = \"Normal\"\n",
    "    elif 25 <= bmi < 29.9:\n",
    "        state[\"category\"] = \"Overweight\"\n",
    "    else:\n",
    "        state[\"category\"] = \"Obese\"\n",
    "    return state"
   ]
  },
  {
   "cell_type": "code",
   "execution_count": 40,
   "id": "baa50c68",
   "metadata": {},
   "outputs": [
    {
     "name": "stdout",
     "output_type": "stream",
     "text": [
      "{'weight_kg': 80, 'height_m': 1.73, 'bmi': 26.73, 'category': 'Overweight'}\n"
     ]
    }
   ],
   "source": [
    "# Graph\n",
    "graph = StateGraph(BMIState)\n",
    "graph.add_node(\"calculate_bmi\", calculate_bmi)\n",
    "graph.add_node(\"label_bmi\", label_bmi)\n",
    "graph.set_entry_point(\"calculate_bmi\")\n",
    "graph.add_edge(\"calculate_bmi\", \"label_bmi\")\n",
    "graph.set_finish_point(\"label_bmi\")\n",
    "\n",
    "workflow = graph.compile()\n",
    "\n",
    "# Run\n",
    "initial_input = {\n",
    "    \"weight_kg\": 80,\n",
    "    \"height_m\": 1.73\n",
    "}\n",
    "result = workflow.invoke(initial_input)\n",
    "print(result)"
   ]
  },
  {
   "cell_type": "code",
   "execution_count": null,
   "id": "df7ca105",
   "metadata": {},
   "outputs": [],
   "source": []
  },
  {
   "cell_type": "code",
   "execution_count": null,
   "id": "06136f51",
   "metadata": {},
   "outputs": [],
   "source": []
  },
  {
   "cell_type": "code",
   "execution_count": null,
   "id": "87208d52",
   "metadata": {},
   "outputs": [],
   "source": []
  }
 ],
 "metadata": {
  "kernelspec": {
   "display_name": "myenv (3.10.5)",
   "language": "python",
   "name": "python3"
  },
  "language_info": {
   "codemirror_mode": {
    "name": "ipython",
    "version": 3
   },
   "file_extension": ".py",
   "mimetype": "text/x-python",
   "name": "python",
   "nbconvert_exporter": "python",
   "pygments_lexer": "ipython3",
   "version": "3.10.5"
  }
 },
 "nbformat": 4,
 "nbformat_minor": 5
}
