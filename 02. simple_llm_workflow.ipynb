{
 "cells": [
  {
   "cell_type": "code",
   "execution_count": 1,
   "id": "bc566fa2",
   "metadata": {},
   "outputs": [],
   "source": [
    "from typing import TypedDict\n",
    "from langgraph.graph import StateGraph\n",
    "from langchain_google_genai import ChatGoogleGenerativeAI\n",
    "from dotenv import load_dotenv\n",
    "import os"
   ]
  },
  {
   "cell_type": "code",
   "execution_count": null,
   "id": "ce2fb336",
   "metadata": {},
   "outputs": [
    {
     "data": {
      "text/plain": [
       "True"
      ]
     },
     "execution_count": 2,
     "metadata": {},
     "output_type": "execute_result"
    }
   ],
   "source": [
    "#Load api \n",
    "load_dotenv()"
   ]
  },
  {
   "cell_type": "code",
   "execution_count": 3,
   "id": "94762312",
   "metadata": {},
   "outputs": [],
   "source": [
    "#LLM model\n",
    "model = ChatGoogleGenerativeAI(model=\"gemini-1.5-flash\", temperature=0.2)"
   ]
  },
  {
   "cell_type": "code",
   "execution_count": 4,
   "id": "e1ea83f6",
   "metadata": {},
   "outputs": [],
   "source": [
    "# State\n",
    "class QAState(TypedDict):\n",
    "    question : str\n",
    "    answer : str\n"
   ]
  },
  {
   "cell_type": "code",
   "execution_count": 10,
   "id": "c640b931",
   "metadata": {},
   "outputs": [],
   "source": [
    "# Node\n",
    "def llm_qa(state: QAState) -> QAState:\n",
    "    prompt = f\"Answer the following question clearly: {state['question']}\"\n",
    "    response = model.invoke(prompt)\n",
    "    state['answer'] = response.content\n",
    "    return state\n",
    "\n",
    "    "
   ]
  },
  {
   "cell_type": "code",
   "execution_count": 11,
   "id": "eeedf195",
   "metadata": {},
   "outputs": [
    {
     "name": "stdout",
     "output_type": "stream",
     "text": [
      "{'question': 'How far is the moon from Earth?', 'answer': \"The Moon's distance from Earth varies because its orbit is not perfectly circular.  The average distance is about **238,855 miles (384,400 kilometers)**.\"}\n"
     ]
    }
   ],
   "source": [
    "# Graph\n",
    "graph = StateGraph(QAState)\n",
    "graph.add_node('llm_qa',llm_qa)\n",
    "graph.set_entry_point('llm_qa')\n",
    "graph.set_finish_point('llm_qa')\n",
    "\n",
    "workflow = graph.compile()\n",
    "\n",
    "result = workflow.invoke({\"question\":\"How far is the moon from Earth?\"})\n",
    "print(result)"
   ]
  },
  {
   "cell_type": "code",
   "execution_count": null,
   "id": "443e3884",
   "metadata": {},
   "outputs": [],
   "source": []
  }
 ],
 "metadata": {
  "kernelspec": {
   "display_name": "myenv (3.10.5)",
   "language": "python",
   "name": "python3"
  },
  "language_info": {
   "codemirror_mode": {
    "name": "ipython",
    "version": 3
   },
   "file_extension": ".py",
   "mimetype": "text/x-python",
   "name": "python",
   "nbconvert_exporter": "python",
   "pygments_lexer": "ipython3",
   "version": "3.10.5"
  }
 },
 "nbformat": 4,
 "nbformat_minor": 5
}
