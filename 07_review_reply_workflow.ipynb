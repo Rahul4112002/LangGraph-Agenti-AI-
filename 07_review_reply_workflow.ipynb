{
 "cells": [
  {
   "cell_type": "code",
   "execution_count": 34,
   "id": "ebbdb6ce",
   "metadata": {},
   "outputs": [],
   "source": [
    "from langgraph.graph import StateGraph, START, END\n",
    "from typing import TypedDict, Literal, Dict\n",
    "from pydantic import BaseModel, Field\n",
    "from langchain_google_genai import ChatGoogleGenerativeAI\n",
    "from dotenv import load_dotenv\n",
    "from langchain_groq import ChatGroq"
   ]
  },
  {
   "cell_type": "code",
   "execution_count": 35,
   "id": "71037c82",
   "metadata": {},
   "outputs": [
    {
     "data": {
      "text/plain": [
       "True"
      ]
     },
     "execution_count": 35,
     "metadata": {},
     "output_type": "execute_result"
    }
   ],
   "source": [
    "#Load api \n",
    "load_dotenv()"
   ]
  },
  {
   "cell_type": "code",
   "execution_count": 36,
   "id": "dd15b3b0",
   "metadata": {},
   "outputs": [],
   "source": [
    "# Step 1: Define Schemas\n",
    "class SentimentSchema(BaseModel):\n",
    "    sentiment: Literal[\"positive\", \"negative\"] = Field(description=\"Sentiment of the review\")\n",
    "    \n",
    "class DiagnosisSchema(BaseModel):\n",
    "    issue_type: Literal[\"UI\", \"Performance\", \"Bug\", \"Support\", \"Other\"]\n",
    "    tone: Literal[\"Angry\", \"Frustrated\", \"Neutral\"]\n",
    "    urgency: Literal[\"Low\", \"Medium\", \"High\"]"
   ]
  },
  {
   "cell_type": "code",
   "execution_count": 37,
   "id": "60f2b17c",
   "metadata": {},
   "outputs": [],
   "source": [
    "# Step 2: Models\n",
    "structured_model = ChatGroq(\n",
    "    model=\"deepseek-r1-distill-llama-70b\", temperature=0\n",
    ").with_structured_output(SentimentSchema)\n",
    "\n",
    "structured_model2 = ChatGroq(\n",
    "    model=\"deepseek-r1-distill-llama-70b\", temperature=0\n",
    ").with_structured_output(DiagnosisSchema)\n",
    "\n",
    "normal_model = ChatGroq(model=\"deepseek-r1-distill-llama-70b\", temperature=0)"
   ]
  },
  {
   "cell_type": "code",
   "execution_count": 38,
   "id": "d29a3835",
   "metadata": {},
   "outputs": [],
   "source": [
    "# Step 3: Define State\n",
    "class ReviewState(TypedDict):\n",
    "    review: str\n",
    "    sentiment: str\n",
    "    diagnosis: Dict\n",
    "    response: str"
   ]
  },
  {
   "cell_type": "code",
   "execution_count": 39,
   "id": "a6830022",
   "metadata": {},
   "outputs": [],
   "source": [
    "# Step 4: Functions (Nodes)\n",
    "def find_sentiment(state: ReviewState):\n",
    "    prompt = f\"What is the sentiment of the following review?\\n\\n{state['review']}\"\n",
    "    output = structured_model.invoke(prompt)\n",
    "    return {\"sentiment\": output.sentiment}\n",
    "\n",
    "def positive_response(state: ReviewState):\n",
    "    prompt = f\"Write a warm thank-you reply for this positive review:\\n\\n{state['review']}\"\n",
    "    resp = normal_model.invoke(prompt)\n",
    "    return {\"response\": resp.content}\n",
    "\n",
    "def run_diagnosis(state: ReviewState):\n",
    "    prompt = f\"Diagnose this negative review:\\n\\n{state['review']}\\nReturn issue_type, tone, urgency.\"\n",
    "    output = structured_model2.invoke(prompt)\n",
    "    return {\"diagnosis\": output.model_dump()}\n",
    "\n",
    "def negative_response(state: ReviewState):\n",
    "    diag = state[\"diagnosis\"]\n",
    "    prompt = f\"\"\"You are a support assistant. \n",
    "    The user reported an issue of type {diag['issue_type']}, with tone {diag['tone']} \n",
    "    and urgency {diag['urgency']}. Write an empathetic helpful reply.\"\"\"\n",
    "    resp = normal_model.invoke(prompt)\n",
    "    return {\"response\": resp.content}"
   ]
  },
  {
   "cell_type": "code",
   "execution_count": 40,
   "id": "903964e5",
   "metadata": {},
   "outputs": [],
   "source": [
    "# Step 5: Routing Function\n",
    "def check_sentiment(state: ReviewState) -> Literal[\"PositiveResponse\",\"RunDiagnosis\"]:\n",
    "    if state[\"sentiment\"] == \"positive\":\n",
    "        return \"PositiveResponse\"\n",
    "    else:\n",
    "        return \"RunDiagnosis\""
   ]
  },
  {
   "cell_type": "code",
   "execution_count": 41,
   "id": "f172db59",
   "metadata": {},
   "outputs": [
    {
     "data": {
      "text/plain": [
       "<langgraph.graph.state.StateGraph at 0x289daa9b6d0>"
      ]
     },
     "execution_count": 41,
     "metadata": {},
     "output_type": "execute_result"
    }
   ],
   "source": [
    "# Step 6: Build Graph\n",
    "graph = StateGraph(ReviewState)\n",
    "graph.add_node(\"FindSentiment\", find_sentiment)\n",
    "graph.add_node(\"PositiveResponse\", positive_response)\n",
    "graph.add_node(\"RunDiagnosis\", run_diagnosis)\n",
    "graph.add_node(\"NegativeResponse\", negative_response)"
   ]
  },
  {
   "cell_type": "code",
   "execution_count": 42,
   "id": "1df43507",
   "metadata": {},
   "outputs": [
    {
     "data": {
      "text/plain": [
       "<langgraph.graph.state.StateGraph at 0x289daa9b6d0>"
      ]
     },
     "execution_count": 42,
     "metadata": {},
     "output_type": "execute_result"
    }
   ],
   "source": [
    "#edges\n",
    "graph.add_edge(START, \"FindSentiment\")\n",
    "graph.add_conditional_edges(\"FindSentiment\", check_sentiment)\n",
    "graph.add_edge(\"PositiveResponse\", END)\n",
    "graph.add_edge(\"RunDiagnosis\", \"NegativeResponse\")\n",
    "graph.add_edge(\"NegativeResponse\", END)\n"
   ]
  },
  {
   "cell_type": "code",
   "execution_count": 43,
   "id": "63ab956e",
   "metadata": {},
   "outputs": [
    {
     "data": {
      "image/png": "[encoded data removed]",
      "text/plain": [
       "<langgraph.graph.state.CompiledStateGraph object at 0x00000289DAA9AE60>"
      ]
     },
     "execution_count": 43,
     "metadata": {},
     "output_type": "execute_result"
    }
   ],
   "source": [
    "workflow = graph.compile()\n",
    "workflow"
   ]
  },
  {
   "cell_type": "code",
   "execution_count": 44,
   "id": "562effb8",
   "metadata": {},
   "outputs": [
    {
     "name": "stdout",
     "output_type": "stream",
     "text": [
      "Review: The product is too slow and keeps crashing.\n",
      "Sentiment: negative\n",
      "Diagnosis: {'issue_type': 'Bug', 'tone': 'Frustrated', 'urgency': 'High'}\n",
      "Response: <think>\n",
      "Okay, I need to respond to a user who's frustrated and reported a high-urgency bug. First, I should acknowledge their frustration to show empathy. Then, I should apologize for the inconvenience. It's important to assure them that we're taking the issue seriously and will prioritize resolving it. I should ask for more details to help diagnose the problem faster. I'll keep the tone supportive and understanding to make them feel heard and valued.\n",
      "</think>\n",
      "\n",
      "I'm really sorry to hear you're experiencing this issue. I completely understand how frustrating that must be for you. Please know that we take this very seriously and are committed to resolving it as quickly as possible. Could you provide more details about the problem you're encountering? The more information you can share, the faster we can work to fix it. Thank you for your patience and for bringing this to our attention.\n"
     ]
    }
   ],
   "source": [
    "# Step 7: Run\n",
    "initial_state = {\"review\": \"The product is too slow and keeps crashing.\"}\n",
    "result = workflow.invoke(initial_state)\n",
    "\n",
    "print(\"Review:\", result[\"review\"])\n",
    "print(\"Sentiment:\", result[\"sentiment\"])\n",
    "print(\"Diagnosis:\", result.get(\"diagnosis\"))\n",
    "print(\"Response:\", result[\"response\"])"
   ]
  },
  {
   "cell_type": "code",
   "execution_count": null,
   "id": "f565d1a4",
   "metadata": {},
   "outputs": [],
   "source": []
  }
 ],
 "metadata": {
  "kernelspec": {
   "display_name": "myenv (3.10.5)",
   "language": "python",
   "name": "python3"
  },
  "language_info": {
   "codemirror_mode": {
    "name": "ipython",
    "version": 3
   },
   "file_extension": ".py",
   "mimetype": "text/x-python",
   "name": "python",
   "nbconvert_exporter": "python",
   "pygments_lexer": "ipython3",
   "version": "3.10.5"
  }
 },
 "nbformat": 4,
 "nbformat_minor": 5
}
