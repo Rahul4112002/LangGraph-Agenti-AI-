{
 "cells": [
  {
   "cell_type": "markdown",
   "id": "7efe55fc",
   "metadata": {},
   "source": [
    "🏏 Example 1: Batsman Stats Parallel Workflow\n",
    "\n",
    "🔹 Problem Statement\n",
    "\n",
    "Given batsman performance:\n",
    "\n",
    "runs, balls, fours, sixes\n",
    "\n",
    "We calculate in parallel:\n",
    "\n",
    "Strike Rate = (runs / balls) * 100\n",
    "\n",
    "Boundary % = (runs from 4s & 6s / total runs) * 100\n",
    "\n",
    "Balls per Boundary (BPB) = balls / (fours + sixes)\n",
    "\n",
    "Finally → Summary Node combines results."
   ]
  },
  {
   "cell_type": "code",
   "execution_count": 16,
   "id": "75a8ba78",
   "metadata": {},
   "outputs": [],
   "source": [
    "from langgraph.graph import StateGraph, START, END\n",
    "from typing import TypedDict"
   ]
  },
  {
   "cell_type": "code",
   "execution_count": 17,
   "id": "0694131b",
   "metadata": {},
   "outputs": [],
   "source": [
    "# State Defination\n",
    "class BatsmanState(TypedDict):\n",
    "    runs : int\n",
    "    balls : int\n",
    "    fours : int\n",
    "    sixes : int\n",
    "    strike_rate : float\n",
    "    boundary_percent : float\n",
    "    balls_per_boundary : float\n",
    "    summary : str\n",
    "    "
   ]
  },
  {
   "cell_type": "code",
   "execution_count": 18,
   "id": "46558b10",
   "metadata": {},
   "outputs": [],
   "source": [
    "# Define Funtion\n",
    "def calculate_strike_rate(state: BatsmanState):\n",
    "    runs = state['runs']\n",
    "    balls = state['balls']\n",
    "    strike_rate = (runs/balls)*100\n",
    "    return {'strike_rate': strike_rate}\n",
    "\n",
    "def boundary_percent(state: BatsmanState):\n",
    "    boundary_runs = (state['fours']*4) + (state['sixes']*6)\n",
    "    boundary_percent = (boundary_runs/state['runs'])*100\n",
    "    return {'boundary_percent':boundary_percent}\n",
    "\n",
    "def calculate_balls_per_boundary(state: BatsmanState):\n",
    "    bpb = state[\"balls\"] / (state[\"fours\"] + state[\"sixes\"])\n",
    "    return {\"balls_per_boundary\": bpb}\n",
    "\n",
    "def summary(state: BatsmanState):\n",
    "    text = (\n",
    "        f\"Strike Rate: {state['strike_rate']:.2f}\\n\"\n",
    "        f\"Boundary %: {state['boundary_percent']:.2f}\\n\"\n",
    "        f\"Balls per Boundary: {state['balls_per_boundary']:.2f}\"\n",
    "    )\n",
    "    return {\"summary\": text}\n"
   ]
  },
  {
   "cell_type": "code",
   "execution_count": 19,
   "id": "1673084b",
   "metadata": {},
   "outputs": [
    {
     "data": {
      "text/plain": [
       "<langgraph.graph.state.StateGraph at 0x21a707cbbe0>"
      ]
     },
     "execution_count": 19,
     "metadata": {},
     "output_type": "execute_result"
    }
   ],
   "source": [
    "# Define Graph\n",
    "graph = StateGraph(BatsmanState)\n",
    "graph.add_node(\"CalculateStrikeRate\", calculate_strike_rate)\n",
    "graph.add_node(\"CalculateBoundaryPercent\", boundary_percent)\n",
    "graph.add_node(\"CalculateBPB\", calculate_balls_per_boundary)\n",
    "graph.add_node(\"Summary\", summary)\n"
   ]
  },
  {
   "cell_type": "code",
   "execution_count": 20,
   "id": "3c5987f4",
   "metadata": {},
   "outputs": [
    {
     "data": {
      "text/plain": [
       "<langgraph.graph.state.StateGraph at 0x21a707cbbe0>"
      ]
     },
     "execution_count": 20,
     "metadata": {},
     "output_type": "execute_result"
    }
   ],
   "source": [
    "# Define edges\n",
    "graph.add_edge(START, \"CalculateStrikeRate\")\n",
    "graph.add_edge(START, \"CalculateBoundaryPercent\")\n",
    "graph.add_edge(START, \"CalculateBPB\")\n",
    "graph.add_edge(\"CalculateStrikeRate\", \"Summary\")\n",
    "graph.add_edge(\"CalculateBoundaryPercent\", \"Summary\")\n",
    "graph.add_edge(\"CalculateBPB\", \"Summary\")\n",
    "graph.add_edge(\"Summary\", END)"
   ]
  },
  {
   "cell_type": "code",
   "execution_count": 21,
   "id": "02fcb0ba",
   "metadata": {},
   "outputs": [
    {
     "data": {
      "image/png": "[encoded data removed]",
      "text/plain": [
       "<langgraph.graph.state.CompiledStateGraph object at 0x0000021A705841F0>"
      ]
     },
     "execution_count": 21,
     "metadata": {},
     "output_type": "execute_result"
    }
   ],
   "source": [
    "# Complile workflow\n",
    "workflow = graph.compile()\n",
    "workflow\n"
   ]
  },
  {
   "cell_type": "code",
   "execution_count": 22,
   "id": "427a5d88",
   "metadata": {},
   "outputs": [
    {
     "name": "stdout",
     "output_type": "stream",
     "text": [
      "Strike Rate: 200.00\n",
      "Boundary %: 48.00\n",
      "Balls per Boundary: 5.00\n"
     ]
    }
   ],
   "source": [
    "# Run workflow\n",
    "initial_state = {\"runs\": 100, \"balls\": 50, \"fours\": 6, \"sixes\": 4}\n",
    "result = workflow.invoke(initial_state)\n",
    "\n",
    "print(result[\"summary\"])"
   ]
  },
  {
   "cell_type": "code",
   "execution_count": null,
   "id": "9dd04239",
   "metadata": {},
   "outputs": [],
   "source": []
  }
 ],
 "metadata": {
  "kernelspec": {
   "display_name": "myenv (3.10.5)",
   "language": "python",
   "name": "python3"
  },
  "language_info": {
   "codemirror_mode": {
    "name": "ipython",
    "version": 3
   },
   "file_extension": ".py",
   "mimetype": "text/x-python",
   "name": "python",
   "nbconvert_exporter": "python",
   "pygments_lexer": "ipython3",
   "version": "3.10.5"
  }
 },
 "nbformat": 4,
 "nbformat_minor": 5
}
