{
 "cells": [
  {
   "cell_type": "code",
   "execution_count": 1,
   "id": "c7e228b4",
   "metadata": {},
   "outputs": [],
   "source": [
    "from typing import TypedDict\n",
    "from langgraph.graph import StateGraph\n",
    "from langchain_google_genai import ChatGoogleGenerativeAI"
   ]
  },
  {
   "cell_type": "code",
   "execution_count": 2,
   "id": "f9f3c35a",
   "metadata": {},
   "outputs": [],
   "source": [
    "# ---- LLM ----\n",
    "model = ChatGoogleGenerativeAI(model=\"gemini-1.5-flash\", temperature=0.3)"
   ]
  },
  {
   "cell_type": "code",
   "execution_count": 3,
   "id": "7fed9141",
   "metadata": {},
   "outputs": [],
   "source": [
    "# ---- State ----\n",
    "class BlogState(TypedDict):\n",
    "    title: str\n",
    "    outline: str\n",
    "    content: str"
   ]
  },
  {
   "cell_type": "code",
   "execution_count": 5,
   "id": "e6142b54",
   "metadata": {},
   "outputs": [],
   "source": [
    "# ---- Nodes ----\n",
    "def create_outline(state: BlogState) -> BlogState:\n",
    "    prompt = f\"Generate a detailed blog outline on the topic: {state['title']}\"\n",
    "    response = model.invoke(prompt)\n",
    "    state[\"outline\"] = response.content\n",
    "    return state\n",
    "\n",
    "def create_blog(state: BlogState) -> BlogState:\n",
    "    prompt = f\"Write a detailed blog on '{state['title']}' using the outline:\\n{state['outline']}\"\n",
    "    response = model.invoke(prompt)\n",
    "    state[\"content\"] = response.content\n",
    "    return state"
   ]
  },
  {
   "cell_type": "code",
   "execution_count": 6,
   "id": "a6bcb7d1",
   "metadata": {},
   "outputs": [],
   "source": [
    "# ---- Graph ----\n",
    "graph = StateGraph(BlogState)\n",
    "graph.add_node(\"create_outline\", create_outline)\n",
    "graph.add_node(\"create_blog\", create_blog)\n",
    "\n",
    "graph.set_entry_point(\"create_outline\")\n",
    "graph.add_edge(\"create_outline\", \"create_blog\")\n",
    "graph.set_finish_point(\"create_blog\")\n",
    "\n",
    "workflow = graph.compile()"
   ]
  },
  {
   "cell_type": "code",
   "execution_count": 7,
   "id": "20f43054",
   "metadata": {},
   "outputs": [
    {
     "name": "stdout",
     "output_type": "stream",
     "text": [
      "{'title': 'Rise of AI in India', 'outline': \"## Blog Outline: The Rise of AI in India - A Technological and Societal Transformation\\n\\n**I. Introduction (approx. 150 words)**\\n\\n* **Hook:** Start with a compelling statistic or anecdote showcasing AI's growing presence in India (e.g., investment figures, a specific AI application impacting daily life).\\n* **Brief overview:** Define AI and its various applications.\\n* **Thesis statement:**  Highlight the rapid growth of AI in India, exploring its drivers, challenges, and potential impact on the nation's economy and society.\\n* **Roadmap:** Briefly outline the sections to be covered in the blog.\\n\\n\\n**II. Drivers of AI Growth in India (approx. 300 words)**\\n\\n* **Government Initiatives:**\\n    *  Discuss policies like the National AI Strategy, Digital India, and their role in fostering AI development.\\n    *  Mention funding and support programs for AI research and startups.\\n* **Technological Talent Pool:**\\n    *  Highlight India's large and skilled IT workforce, its engineering graduates, and their contribution to the AI sector.\\n    *  Discuss the growing number of AI courses and educational programs.\\n* **Data Abundance:**\\n    *  Explain the vast amount of data generated in India (e.g., mobile usage, social media, e-commerce) and its potential for AI development.\\n    *  Address data privacy concerns and regulations.\\n* **Private Sector Investment:**\\n    *  Mention major Indian companies investing in AI and their applications (e.g., Reliance Jio, Tata Group).\\n    *  Discuss the role of venture capital and foreign investment in the AI ecosystem.\\n\\n\\n**III. Key Applications of AI in India (approx. 400 words)**\\n\\n* **Agriculture:**\\n    *  Discuss AI-powered precision farming, crop monitoring, and yield prediction.\\n    *  Highlight the potential for improving food security and farmer incomes.\\n* **Healthcare:**\\n    *  Explain the use of AI in disease diagnosis, drug discovery, and personalized medicine.\\n    *  Mention telemedicine and AI-powered health monitoring applications.\\n* **Finance:**\\n    *  Discuss AI's role in fraud detection, risk management, and algorithmic trading.\\n    *  Mention the use of AI in customer service and personalized financial advice.\\n* **Education:**\\n    *  Explain the use of AI in personalized learning, automated grading, and educational technology.\\n* **Other sectors:** Briefly touch upon AI applications in transportation, manufacturing, and customer service.\\n\\n\\n**IV. Challenges and Concerns (approx. 300 words)**\\n\\n* **Ethical Concerns:**\\n    *  Discuss issues like algorithmic bias, job displacement, and data privacy.\\n    *  Mention the need for ethical guidelines and regulations in AI development.\\n* **Infrastructure Gaps:**\\n    *  Address the challenges of limited computing power and internet access in certain regions.\\n    *  Discuss the need for improved digital infrastructure to support AI growth.\\n* **Skill Gap:**\\n    *  Highlight the need for upskilling and reskilling the workforce to meet the demands of the AI industry.\\n    *  Discuss the importance of STEM education and AI literacy.\\n* **Regulatory Framework:**\\n    *  Discuss the need for a robust regulatory framework to govern the development and deployment of AI.\\n\\n\\n**V. Future Outlook and Conclusion (approx. 200 words)**\\n\\n* **Predictions:**  Offer insights into the future trajectory of AI in India, considering ongoing trends and potential breakthroughs.\\n* **Opportunities:**  Highlight the potential for AI to drive economic growth, improve social welfare, and solve pressing societal challenges.\\n* **Call to action:**  Encourage readers to learn more about AI, engage in discussions, and contribute to the responsible development of AI in India.\\n* **Concluding statement:**  Reiterate the significance of AI's rise in India and its transformative potential.\\n\\n\\n**VI.  Optional additions:**\\n\\n* **Case studies:** Include specific examples of successful AI implementations in India.\\n* **Infographics/visuals:** Use charts and graphs to illustrate data and key trends.\\n* **Interviews:** Include quotes from experts in the field.\\n* **Resources:** Provide links to relevant websites, reports, and organizations.\\n\\n\\nThis outline provides a comprehensive structure for a blog post on the rise of AI in India.  Remember to adapt and adjust the length and focus of each section based on your target audience and the overall tone you wish to convey.\", 'content': \"## The Rise of AI in India - A Technological and Societal Transformation\\n\\n**I. Introduction**\\n\\nIndia is experiencing a technological surge, with Artificial Intelligence (AI) at its forefront.  Investment in the Indian AI market is projected to reach billions of dollars by 2025, a testament to its burgeoning potential.  This isn't just about futuristic technology; AI is already impacting daily life, from personalized recommendations on e-commerce platforms to AI-powered chatbots assisting customer service.  Artificial Intelligence, encompassing machine learning, deep learning, natural language processing, and computer vision, is rapidly transforming various sectors. This blog post will explore the rapid growth of AI in India, examining its key drivers, diverse applications, associated challenges, and its promising future, ultimately highlighting its transformative potential for the nation's economy and society. We will delve into government initiatives, the talent pool, data abundance, and private sector investment fueling this growth, before examining key applications across sectors and addressing crucial ethical and infrastructural concerns.\\n\\n\\n**II. Drivers of AI Growth in India**\\n\\nSeveral factors contribute to India's burgeoning AI landscape.  The Indian government has played a crucial role through initiatives like the National AI Strategy, aiming to position India as a global leader in AI.  The Digital India program, focusing on digital literacy and infrastructure development, provides a strong foundation for AI adoption.  These initiatives are coupled with significant funding and support programs for AI research and startups, fostering innovation and entrepreneurship.\\n\\nIndia boasts a vast and skilled IT workforce, a legacy of its robust engineering education system.  Millions of skilled engineers and programmers are readily available to contribute to the AI sector.  Furthermore, the number of AI courses and specialized educational programs is rapidly increasing, ensuring a continuous supply of talent.\\n\\nThe sheer volume of data generated in India is another significant driver.  The country's massive mobile user base, active social media engagement, and booming e-commerce sector create a rich data pool ideal for training AI models.  However, this abundance also necessitates robust data privacy regulations and ethical considerations, a challenge India is actively addressing.\\n\\nPrivate sector investment is crucial.  Major Indian conglomerates like Reliance Jio and the Tata Group are heavily investing in AI, developing and deploying AI-powered solutions across their diverse businesses.  Venture capital and foreign direct investment are also flowing into the Indian AI ecosystem, further fueling its growth.\\n\\n\\n**III. Key Applications of AI in India**\\n\\nAI's applications in India are diverse and impactful.  In agriculture, AI-powered precision farming techniques are optimizing resource utilization, improving crop yields, and enhancing farmer incomes.  AI-driven systems monitor crop health, predict yields, and optimize irrigation and fertilization, contributing significantly to food security.\\n\\nHealthcare is another sector witnessing a transformation.  AI is assisting in disease diagnosis, accelerating drug discovery, and enabling personalized medicine.  Telemedicine platforms, powered by AI, are expanding healthcare access in remote areas.  AI-powered health monitoring devices are also gaining popularity, enabling proactive healthcare management.\\n\\nThe finance sector leverages AI for fraud detection, risk management, and algorithmic trading.  AI-powered chatbots and virtual assistants are enhancing customer service, while personalized financial advice is becoming increasingly common.\\n\\nEducation is embracing AI for personalized learning experiences, automated grading, and the development of innovative educational technologies.  AI tutors can adapt to individual student needs, providing customized learning paths and support.\\n\\nBeyond these key sectors, AI is making inroads into transportation (autonomous vehicles), manufacturing (predictive maintenance), and customer service (AI-powered chatbots), showcasing its broad applicability.\\n\\n\\n**IV. Challenges and Concerns**\\n\\nDespite the rapid growth, challenges remain.  Ethical concerns surrounding algorithmic bias, job displacement due to automation, and data privacy are paramount.  Establishing clear ethical guidelines and robust regulatory frameworks is crucial to mitigate these risks.\\n\\nInfrastructure gaps pose a significant hurdle.  Limited computing power and internet access in certain regions hinder widespread AI adoption.  Investing in robust digital infrastructure is essential to bridge this digital divide.\\n\\nA significant skill gap exists.  Upskilling and reskilling the workforce to meet the demands of the AI industry is crucial.  Promoting STEM education and fostering AI literacy among the general population are vital steps.\\n\\nA comprehensive and adaptable regulatory framework is needed to govern the development and deployment of AI, balancing innovation with ethical considerations and societal well-being.\\n\\n\\n**V. Future Outlook and Conclusion**\\n\\nThe future of AI in India is bright.  Continued government support, private sector investment, and the growing talent pool will drive further innovation.  We can expect breakthroughs in areas like healthcare, agriculture, and education, leading to significant societal improvements.  AI has the potential to drive economic growth, improve social welfare, and address pressing societal challenges like poverty and inequality.\\n\\nWe urge readers to engage with the ongoing discussions surrounding AI ethics and responsible development.  Learning about AI, participating in relevant conversations, and contributing to its responsible growth are crucial for harnessing its transformative power for the benefit of all.  The rise of AI in India is not just a technological advancement; it is a societal transformation with the potential to reshape the nation's future.  Its success hinges on addressing the challenges proactively and fostering a collaborative environment that prioritizes ethical considerations and inclusive growth.\"}\n"
     ]
    }
   ],
   "source": [
    "# ---- Run ----\n",
    "result = workflow.invoke({\"title\": \"Rise of AI in India\"})\n",
    "print(result)"
   ]
  },
  {
   "cell_type": "code",
   "execution_count": null,
   "id": "496db249",
   "metadata": {},
   "outputs": [],
   "source": []
  }
 ],
 "metadata": {
  "kernelspec": {
   "display_name": "myenv (3.10.5)",
   "language": "python",
   "name": "python3"
  },
  "language_info": {
   "codemirror_mode": {
    "name": "ipython",
    "version": 3
   },
   "file_extension": ".py",
   "mimetype": "text/x-python",
   "name": "python",
   "nbconvert_exporter": "python",
   "pygments_lexer": "ipython3",
   "version": "3.10.5"
  }
 },
 "nbformat": 4,
 "nbformat_minor": 5
}
