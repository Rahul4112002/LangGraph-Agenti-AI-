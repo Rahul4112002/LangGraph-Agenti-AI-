{
 "cells": [
  {
   "cell_type": "code",
   "execution_count": 1,
   "id": "0ccee46e",
   "metadata": {},
   "outputs": [],
   "source": [
    "from langgraph.graph import StateGraph, START, END\n",
    "from typing import TypedDict, List, Annotated\n",
    "from pydantic import BaseModel, Field\n",
    "import operator\n",
    "from langchain_google_genai import ChatGoogleGenerativeAI"
   ]
  },
  {
   "cell_type": "code",
   "execution_count": 2,
   "id": "499b2b2e",
   "metadata": {},
   "outputs": [],
   "source": [
    "# Step 1: Structured Output Schema\n",
    "class EvaluationSchema(BaseModel):\n",
    "    feedback: str = Field(description=\"Detailed feedback for the essay\")\n",
    "    score: int = Field( description=\"Score out of 10\", ge=0, le=10)"
   ]
  },
  {
   "cell_type": "code",
   "execution_count": 4,
   "id": "27d49f0e",
   "metadata": {},
   "outputs": [],
   "source": [
    "# Step 2: LLM (Google Gemini with structured output)\n",
    "normal_model = ChatGoogleGenerativeAI(model=\"gemini-1.5-flash\", temperature=0)\n",
    "\n",
    "structured_model = normal_model.with_structured_output(EvaluationSchema)\n"
   ]
  },
  {
   "cell_type": "code",
   "execution_count": 5,
   "id": "b040084a",
   "metadata": {},
   "outputs": [],
   "source": [
    "# Step 3: Define State\n",
    "class UPSCState(TypedDict):\n",
    "    essay_text: str\n",
    "    clarity_feedback: str\n",
    "    analysis_feedback: str\n",
    "    language_feedback: str\n",
    "    overall_feedback: str\n",
    "    individual_scores: Annotated[List[int], operator.add]\n",
    "    average_score: float"
   ]
  },
  {
   "cell_type": "code",
   "execution_count": 7,
   "id": "ecc11b9d",
   "metadata": {},
   "outputs": [],
   "source": [
    "# Step 4: Node Functions\n",
    "def evaluate_language(state: UPSCState):\n",
    "    prompt = f\"Evaluate the LANGUAGE quality of this essay:\\n\\n{state['essay_text']}\"\n",
    "    output = structured_model.invoke(prompt)\n",
    "    return {\n",
    "        \"language_feedback\": output.feedback,\n",
    "        \"individual_scores\": [output.score]\n",
    "    }\n",
    "    \n",
    "def evaluate_analysis(state: UPSCState):\n",
    "    prompt = f\"Evaluate the DEPTH OF ANALYSIS of this essay:\\n\\n{state['essay_text']}\"\n",
    "    output = structured_model.invoke(prompt)\n",
    "    return {\n",
    "        \"analysis_feedback\": output.feedback,\n",
    "        \"individual_scores\": [output.score]\n",
    "    }\n",
    "    \n",
    "def evaluate_clarity(state: UPSCState):\n",
    "    prompt = f\"Evaluate the CLARITY OF THOUGHT of this essay:\\n\\n{state['essay_text']}\"\n",
    "    output = structured_model.invoke(prompt)\n",
    "    return {\n",
    "        \"clarity_feedback\": output.feedback,\n",
    "        \"individual_scores\": [output.score]\n",
    "    }\n",
    "    \n",
    "def final_evaluation(state: UPSCState):\n",
    "    # Summarize feedbacks\n",
    "    prompt = f\"\"\"Based on the following feedbacks, create a summarized overall feedback:\n",
    "    - Language: {state['language_feedback']}\n",
    "    - Analysis: {state['analysis_feedback']}\n",
    "    - Clarity: {state['clarity_feedback']}\"\"\"\n",
    "    response = normal_model.invoke(prompt)\n",
    "\n",
    "    # Calculate average score\n",
    "    avg_score = sum(state[\"individual_scores\"]) / len(state[\"individual_scores\"])\n",
    "    return {\n",
    "        \"overall_feedback\": response.content,\n",
    "        \"average_score\": avg_score\n",
    "    }"
   ]
  },
  {
   "cell_type": "code",
   "execution_count": 8,
   "id": "0138cac8",
   "metadata": {},
   "outputs": [
    {
     "data": {
      "text/plain": [
       "<langgraph.graph.state.StateGraph at 0x20e5fad6500>"
      ]
     },
     "execution_count": 8,
     "metadata": {},
     "output_type": "execute_result"
    }
   ],
   "source": [
    "# Step 5: Build Graph\n",
    "graph = StateGraph(UPSCState)\n",
    "graph.add_node(\"EvaluateLanguage\", evaluate_language)\n",
    "graph.add_node(\"EvaluateAnalysis\", evaluate_analysis)\n",
    "graph.add_node(\"EvaluateClarity\", evaluate_clarity)\n",
    "graph.add_node(\"FinalEvaluation\", final_evaluation)"
   ]
  },
  {
   "cell_type": "code",
   "execution_count": 9,
   "id": "5d1642b5",
   "metadata": {},
   "outputs": [
    {
     "data": {
      "text/plain": [
       "<langgraph.graph.state.StateGraph at 0x20e5fad6500>"
      ]
     },
     "execution_count": 9,
     "metadata": {},
     "output_type": "execute_result"
    }
   ],
   "source": [
    "#Define Edges\n",
    "graph.add_edge(START, \"EvaluateLanguage\")\n",
    "graph.add_edge(START, \"EvaluateAnalysis\")\n",
    "graph.add_edge(START, \"EvaluateClarity\")\n",
    "graph.add_edge(\"EvaluateLanguage\", \"FinalEvaluation\")\n",
    "graph.add_edge(\"EvaluateAnalysis\", \"FinalEvaluation\")\n",
    "graph.add_edge(\"EvaluateClarity\", \"FinalEvaluation\")\n",
    "graph.add_edge(\"FinalEvaluation\", END)"
   ]
  },
  {
   "cell_type": "code",
   "execution_count": 10,
   "id": "0e15064c",
   "metadata": {},
   "outputs": [
    {
     "data": {
      "image/png": "[encoded data removed]",
      "text/plain": [
       "<langgraph.graph.state.CompiledStateGraph object at 0x0000020E5FAD4E50>"
      ]
     },
     "execution_count": 10,
     "metadata": {},
     "output_type": "execute_result"
    }
   ],
   "source": [
    "#Compile \n",
    "workflow = graph.compile()\n",
    "workflow"
   ]
  },
  {
   "cell_type": "code",
   "execution_count": 12,
   "id": "bb9bce9f",
   "metadata": {},
   "outputs": [],
   "source": [
    "#Run\n",
    "essay = \"\"\"India in the Age of AI\n",
    "As the world enters a transformative era defined by artificial intelligence (AI), India stands at a critical juncture — one where it can either emerge as a global leader in AI innovation or risk falling behind in the technology race. The age of AI brings with it immense promise as well as unprecedented challenges, and how India navigates this landscape will shape its socio-economic and geopolitical future.\n",
    "\n",
    "India's strengths in the AI domain are rooted in its vast pool of skilled engineers, a thriving IT industry, and a growing startup ecosystem. With over 5 million STEM graduates annually and a burgeoning base of AI researchers, India possesses the intellectual capital required to build cutting-edge AI systems. Institutions like IITs, IIITs, and IISc have begun fostering AI research, while private players such as TCS, Infosys, and Wipro are integrating AI into their global services. In 2020, the government launched the National AI Strategy (AI for All) with a focus on inclusive growth, aiming to leverage AI in healthcare, agriculture, education, and smart mobility.\n",
    "\n",
    "One of the most promising applications of AI in India lies in agriculture, where predictive analytics can guide farmers on optimal sowing times, weather forecasts, and pest control. In healthcare, AI-powered diagnostics can help address India’s doctor-patient ratio crisis, particularly in rural areas. Educational platforms are increasingly using AI to personalize learning paths, while smart governance tools are helping improve public service delivery and fraud detection.\n",
    "\n",
    "However, the path to AI-led growth is riddled with challenges. Chief among them is the digital divide. While metropolitan cities may embrace AI-driven solutions, rural India continues to struggle with basic internet access and digital literacy. The risk of job displacement due to automation also looms large, especially for low-skilled workers. Without effective skilling and re-skilling programs, AI could exacerbate existing socio-economic inequalities.\n",
    "\n",
    "Another pressing concern is data privacy and ethics. As AI systems rely heavily on vast datasets, ensuring that personal data is used transparently and responsibly becomes vital. India is still shaping its data protection laws, and in the absence of a strong regulatory framework, AI systems may risk misuse or bias.\n",
    "\n",
    "To harness AI responsibly, India must adopt a multi-stakeholder approach involving the government, academia, industry, and civil society. Policies should promote open datasets, encourage responsible innovation, and ensure ethical AI practices. There is also a need for international collaboration, particularly with countries leading in AI research, to gain strategic advantage and ensure interoperability in global systems.\n",
    "\n",
    "India’s demographic dividend, when paired with responsible AI adoption, can unlock massive economic growth, improve governance, and uplift marginalized communities. But this vision will only materialize if AI is seen not merely as a tool for automation, but as an enabler of human-centered development.\n",
    "\n",
    "In conclusion, India in the age of AI is a story in the making — one of opportunity, responsibility, and transformation. The decisions we make today will not just determine India’s AI trajectory, but also its future as an inclusive, equitable, and innovation-driven society.\"\"\"\n",
    "initial_state = {\"essay_text\": essay}\n",
    "result = workflow.invoke(initial_state)"
   ]
  },
  {
   "cell_type": "code",
   "execution_count": 13,
   "id": "6c015f01",
   "metadata": {},
   "outputs": [
    {
     "name": "stdout",
     "output_type": "stream",
     "text": [
      "Feedback: The essay demonstrates strong writing skills with sophisticated language and clear structure.  However, while presenting a good overview of India's AI landscape, the analysis lacks depth.  The discussion of AI applications, challenges (including ethical implications), and potential solutions remains superficial, requiring more in-depth exploration and critical analysis to move beyond a surface-level understanding.  Specific examples and data points enhance clarity, but a more nuanced and detailed examination of key issues is needed.\n",
      "Scores: [6, 9, 9]\n",
      "Average Score: 8.0\n"
     ]
    }
   ],
   "source": [
    "print(\"Feedback:\", result[\"overall_feedback\"])\n",
    "print(\"Scores:\", result[\"individual_scores\"])\n",
    "print(\"Average Score:\", result[\"average_score\"])"
   ]
  },
  {
   "cell_type": "code",
   "execution_count": null,
   "id": "6d93d1fb",
   "metadata": {},
   "outputs": [],
   "source": []
  }
 ],
 "metadata": {
  "kernelspec": {
   "display_name": "myenv (3.10.5)",
   "language": "python",
   "name": "python3"
  },
  "language_info": {
   "codemirror_mode": {
    "name": "ipython",
    "version": 3
   },
   "file_extension": ".py",
   "mimetype": "text/x-python",
   "name": "python",
   "nbconvert_exporter": "python",
   "pygments_lexer": "ipython3",
   "version": "3.10.5"
  }
 },
 "nbformat": 4,
 "nbformat_minor": 5
}
