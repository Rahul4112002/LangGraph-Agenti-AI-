{
 "cells": [
  {
   "cell_type": "code",
   "execution_count": 1,
   "id": "e69be0fc",
   "metadata": {},
   "outputs": [],
   "source": [
    "# 🔹 Import required libraries\n",
    "from langgraph.graph import StateGraph, START, END\n",
    "from langgraph.graph.message import add_messages   # reducer for messages\n",
    "from langgraph.checkpoint.memory import MemorySaver   # for persistence (RAM-based)\n",
    "from typing import TypedDict, Annotated\n",
    "from langchain_core.messages import HumanMessage, AIMessage, BaseMessage\n",
    "from langchain_groq import ChatGroq   #  using Groq "
   ]
  },
  {
   "cell_type": "code",
   "execution_count": 2,
   "id": "7deda285",
   "metadata": {},
   "outputs": [],
   "source": [
    "# -------------------------------\n",
    "# Step 1: Define State\n",
    "# -------------------------------\n",
    "class ChatState(TypedDict):\n",
    "    # State will hold conversation history\n",
    "    messages: Annotated[list[BaseMessage], add_messages]"
   ]
  },
  {
   "cell_type": "code",
   "execution_count": 10,
   "id": "570bd37f",
   "metadata": {},
   "outputs": [],
   "source": [
    "# Create LLM (Groq)\n",
    "llm = ChatGroq(model=\"deepseek-r1-distill-llama-70b\", temperature=0.7)"
   ]
  },
  {
   "cell_type": "code",
   "execution_count": 11,
   "id": "9e7ed85a",
   "metadata": {},
   "outputs": [],
   "source": [
    "def chat_node(state: ChatState):\n",
    "    # Take existing conversation history (messages)\n",
    "    messages = state[\"messages\"]\n",
    "    \n",
    "    # Pass them to Groq LLM\n",
    "    response = llm.invoke(messages)\n",
    "    \n",
    "    # Return AI's reply inside list (so it merges into state)\n",
    "    return {\"messages\": [response]}"
   ]
  },
  {
   "cell_type": "code",
   "execution_count": 12,
   "id": "cc350d9c",
   "metadata": {},
   "outputs": [
    {
     "data": {
      "text/plain": [
       "<langgraph.graph.state.StateGraph at 0x29d49e51b40>"
      ]
     },
     "execution_count": 12,
     "metadata": {},
     "output_type": "execute_result"
    }
   ],
   "source": [
    "graph = StateGraph(ChatState)\n",
    "# Add single node \"chat\"\n",
    "graph.add_node(\"chat\", chat_node)"
   ]
  },
  {
   "cell_type": "code",
   "execution_count": 13,
   "id": "bbd04407",
   "metadata": {},
   "outputs": [
    {
     "data": {
      "text/plain": [
       "<langgraph.graph.state.StateGraph at 0x29d49e51b40>"
      ]
     },
     "execution_count": 13,
     "metadata": {},
     "output_type": "execute_result"
    }
   ],
   "source": [
    "# Define workflow edges\n",
    "graph.add_edge(START, \"chat\")\n",
    "graph.add_edge(\"chat\", END)"
   ]
  },
  {
   "cell_type": "code",
   "execution_count": 14,
   "id": "c942ccc2",
   "metadata": {},
   "outputs": [],
   "source": [
    "# -------------------------------\n",
    "# Step 4: Enable Persistence\n",
    "# -------------------------------\n",
    "checkpointer = MemorySaver()   # stores history in RAM\n",
    "chatbot = graph.compile(checkpointer=checkpointer)"
   ]
  },
  {
   "cell_type": "code",
   "execution_count": 15,
   "id": "a18704ee",
   "metadata": {},
   "outputs": [],
   "source": [
    "# -------------------------------\n",
    "# Step 5: Run Chatbot in Loop\n",
    "# -------------------------------\n",
    "config = {\"configurable\": {\"thread_id\": \"rahul_chat\"}}  # unique per user"
   ]
  },
  {
   "cell_type": "code",
   "execution_count": 16,
   "id": "b47c5f3c",
   "metadata": {},
   "outputs": [
    {
     "name": "stdout",
     "output_type": "stream",
     "text": [
      "Chatbot: <think>\n",
      "\n",
      "</think>\n",
      "\n",
      "Hello! How can I assist you today? 😊\n",
      "Chatbot: <think>\n",
      "Okay, the user just said, \"my name is Rahul.\" I should respond in a friendly and welcoming manner. I want to make sure they feel comfortable and know I'm here to help. Maybe I can greet them by their name and offer assistance. I should keep it simple and open-ended so they feel encouraged to ask for what they need. Let's see, something like, \"Hello Rahul! How can I assist you today?\" That sounds good. It's polite and opens the door for them to continue the conversation.\n",
      "</think>\n",
      "\n",
      "Hello Rahul! How can I assist you today?\n",
      "Chatbot: Goodbye! 👋\n"
     ]
    }
   ],
   "source": [
    "while True:\n",
    "    user_input = input(\"You: \")\n",
    "    \n",
    "    # Exit condition\n",
    "    if user_input.strip().lower() in [\"exit\", \"quit\", \"bye\"]:\n",
    "        print(\"Chatbot: Goodbye! 👋\")\n",
    "        break\n",
    "    \n",
    "    # Invoke chatbot\n",
    "    result = chatbot.invoke(\n",
    "        {\"messages\": [HumanMessage(content=user_input)]},\n",
    "        config=config\n",
    "    )\n",
    "    \n",
    "    # Extract last AI message\n",
    "    ai_reply = result[\"messages\"][-1].content\n",
    "    print(\"Chatbot:\", ai_reply)"
   ]
  },
  {
   "cell_type": "code",
   "execution_count": null,
   "id": "5738ca3b",
   "metadata": {},
   "outputs": [],
   "source": []
  }
 ],
 "metadata": {
  "kernelspec": {
   "display_name": "myenv (3.10.5)",
   "language": "python",
   "name": "python3"
  },
  "language_info": {
   "codemirror_mode": {
    "name": "ipython",
    "version": 3
   },
   "file_extension": ".py",
   "mimetype": "text/x-python",
   "name": "python",
   "nbconvert_exporter": "python",
   "pygments_lexer": "ipython3",
   "version": "3.10.5"
  }
 },
 "nbformat": 4,
 "nbformat_minor": 5
}
