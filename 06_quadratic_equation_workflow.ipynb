{
 "cells": [
  {
   "cell_type": "code",
   "execution_count": 17,
   "id": "c3210f4f",
   "metadata": {},
   "outputs": [],
   "source": [
    "from langgraph.graph import StateGraph, START, END\n",
    "from typing import TypedDict, Literal\n",
    "import math"
   ]
  },
  {
   "cell_type": "code",
   "execution_count": 18,
   "id": "638a097b",
   "metadata": {},
   "outputs": [],
   "source": [
    "# Step 1: Define State\n",
    "class QuadState(TypedDict):\n",
    "    a: int\n",
    "    b: int\n",
    "    c: int\n",
    "    equation: str\n",
    "    discriminant: float\n",
    "    result: str"
   ]
  },
  {
   "cell_type": "code",
   "execution_count": 19,
   "id": "aaba75c6",
   "metadata": {},
   "outputs": [],
   "source": [
    "# Step 2: Functions (Nodes)\n",
    "def show_equation(state: QuadState):\n",
    "    eq = f\"{state['a']}x² + {state['b']}x + {state['c']}\"\n",
    "    return {\"equation\": eq}\n",
    "\n",
    "def calculate_discriminant(state: QuadState):\n",
    "    d = (state[\"b\"] ** 2) - (4 * state[\"a\"] * state[\"c\"])\n",
    "    return {\"discriminant\": d}\n",
    "\n",
    "def real_roots(state: QuadState):\n",
    "    d = math.sqrt(state[\"discriminant\"])\n",
    "    r1 = (-state[\"b\"] + d) / (2 * state[\"a\"])\n",
    "    r2 = (-state[\"b\"] - d) / (2 * state[\"a\"])\n",
    "    return {\"result\": f\"The roots are {r1:.2f} and {r2:.2f}\"}\n",
    "\n",
    "def repeated_root(state: QuadState):\n",
    "    r = -state[\"b\"] / (2 * state[\"a\"])\n",
    "    return {\"result\": f\"The repeated root is {r:.2f}\"}\n",
    "\n",
    "def no_real_roots(state: QuadState):\n",
    "    return {\"result\": \"No real roots\"}"
   ]
  },
  {
   "cell_type": "code",
   "execution_count": 20,
   "id": "38129b2d",
   "metadata": {},
   "outputs": [],
   "source": [
    "# Step 3: Routing Function (Conditional)\n",
    "def check_condition(state: QuadState) ->  Literal[\"RealRoots\", \"RepeatedRoot\", \"NoRealRoots\"]:\n",
    "    if state[\"discriminant\"] > 0:\n",
    "        return \"RealRoots\"\n",
    "    elif state[\"discriminant\"] == 0:\n",
    "        return \"RepeatedRoot\"\n",
    "    else:\n",
    "        return \"NoRealRoots\""
   ]
  },
  {
   "cell_type": "code",
   "execution_count": 21,
   "id": "703115de",
   "metadata": {},
   "outputs": [
    {
     "data": {
      "text/plain": [
       "<langgraph.graph.state.StateGraph at 0x213ce212dd0>"
      ]
     },
     "execution_count": 21,
     "metadata": {},
     "output_type": "execute_result"
    }
   ],
   "source": [
    "# Step 4: Build Graph\n",
    "graph = StateGraph(QuadState)\n",
    "graph.add_node(\"ShowEquation\", show_equation)\n",
    "graph.add_node(\"CalculateDiscriminant\", calculate_discriminant)\n",
    "graph.add_node(\"RealRoots\", real_roots)\n",
    "graph.add_node(\"RepeatedRoot\", repeated_root)\n",
    "graph.add_node(\"NoRealRoots\", no_real_roots)"
   ]
  },
  {
   "cell_type": "code",
   "execution_count": 22,
   "id": "51034208",
   "metadata": {},
   "outputs": [
    {
     "data": {
      "text/plain": [
       "<langgraph.graph.state.StateGraph at 0x213ce212dd0>"
      ]
     },
     "execution_count": 22,
     "metadata": {},
     "output_type": "execute_result"
    }
   ],
   "source": [
    "# Edges\n",
    "graph.add_edge(START, \"ShowEquation\")\n",
    "graph.add_edge(\"ShowEquation\", \"CalculateDiscriminant\")\n",
    "graph.add_conditional_edges(\"CalculateDiscriminant\", check_condition)\n",
    "graph.add_edge(\"RealRoots\", END)\n",
    "graph.add_edge(\"RepeatedRoot\", END)\n",
    "graph.add_edge(\"NoRealRoots\", END)\n"
   ]
  },
  {
   "cell_type": "code",
   "execution_count": 23,
   "id": "b20a583a",
   "metadata": {},
   "outputs": [
    {
     "data": {
      "image/png": "[encoded data removed]",
      "text/plain": [
       "<langgraph.graph.state.CompiledStateGraph object at 0x00000213CE2135B0>"
      ]
     },
     "execution_count": 23,
     "metadata": {},
     "output_type": "execute_result"
    }
   ],
   "source": [
    "# Step 5: Compile & Run\n",
    "workflow = graph.compile()\n",
    "workflow\n"
   ]
  },
  {
   "cell_type": "code",
   "execution_count": 25,
   "id": "c3465fc0",
   "metadata": {},
   "outputs": [
    {
     "name": "stdout",
     "output_type": "stream",
     "text": [
      "Equation: 1x² + -3x + 2\n",
      "Discriminant: 1\n",
      "Result: The roots are 2.00 and 1.00\n"
     ]
    }
   ],
   "source": [
    "initial_state = {\"a\": 1, \"b\": -3, \"c\": 2}\n",
    "result = workflow.invoke(initial_state)\n",
    "print(\"Equation:\", result[\"equation\"])\n",
    "print(\"Discriminant:\", result[\"discriminant\"])\n",
    "print(\"Result:\", result[\"result\"])"
   ]
  },
  {
   "cell_type": "code",
   "execution_count": null,
   "id": "feb5a353",
   "metadata": {},
   "outputs": [],
   "source": []
  }
 ],
 "metadata": {
  "kernelspec": {
   "display_name": "myenv (3.10.5)",
   "language": "python",
   "name": "python3"
  },
  "language_info": {
   "codemirror_mode": {
    "name": "ipython",
    "version": 3
   },
   "file_extension": ".py",
   "mimetype": "text/x-python",
   "name": "python",
   "nbconvert_exporter": "python",
   "pygments_lexer": "ipython3",
   "version": "3.10.5"
  }
 },
 "nbformat": 4,
 "nbformat_minor": 5
}
